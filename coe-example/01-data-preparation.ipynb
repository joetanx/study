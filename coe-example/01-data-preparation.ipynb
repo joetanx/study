{
 "cells": [
  {
   "cell_type": "markdown",
   "id": "b170ce03-6c80-4434-aabf-11be1cf3d975",
   "metadata": {},
   "source": [
    "# Download the COE dataset\n",
    "\n",
    "Dataset copied from [data.gov.sg](https://data.gov.sg/datasets/d_69b3380ad7e51aff3a7dcc84eba52b8a/view)"
   ]
  },
  {
   "cell_type": "code",
   "execution_count": 1,
   "id": "2c98423c-197b-41ff-81e6-b1a0a45b7d38",
   "metadata": {},
   "outputs": [],
   "source": [
    "!curl -sLO https://github.com/joetanx/study/raw/refs/heads/main/coe-example/COEBiddingResults.csv"
   ]
  },
  {
   "cell_type": "markdown",
   "id": "b7189323-712d-4212-bec8-53475476692d",
   "metadata": {},
   "source": [
    "# Review the dataset"
   ]
  },
  {
   "cell_type": "code",
   "execution_count": 2,
   "id": "83dbbfee-3157-4e95-add1-e1efac06c828",
   "metadata": {
    "scrolled": true
   },
   "outputs": [
    {
     "name": "stdout",
     "output_type": "stream",
     "text": [
      "<class 'pandas.core.frame.DataFrame'>\n",
      "RangeIndex: 1740 entries, 0 to 1739\n",
      "Data columns (total 7 columns):\n",
      " #   Column         Non-Null Count  Dtype \n",
      "---  ------         --------------  ----- \n",
      " 0   month          1740 non-null   object\n",
      " 1   bidding_no     1740 non-null   int64 \n",
      " 2   vehicle_class  1740 non-null   object\n",
      " 3   quota          1740 non-null   int64 \n",
      " 4   bids_success   1740 non-null   object\n",
      " 5   bids_received  1740 non-null   object\n",
      " 6   premium        1740 non-null   int64 \n",
      "dtypes: int64(3), object(4)\n",
      "memory usage: 95.3+ KB\n"
     ]
    }
   ],
   "source": [
    "import pandas as pd\n",
    "import matplotlib.pyplot as plt\n",
    "import seaborn as sns\n",
    "plt.style.use('ggplot')\n",
    "df = pd.read_csv('COEBiddingResults.csv')\n",
    "df.info()"
   ]
  },
  {
   "cell_type": "markdown",
   "id": "8323c2a0-20d0-44f6-9448-44ff86f5553c",
   "metadata": {
    "jupyter": {
     "source_hidden": true
    }
   },
   "source": [
    "# Processing the date\n",
    "- COE biddings happen twice a month (typically first and third Wednesdays).\n",
    "- Hence, the COE dataset contains `month` and `bidding_no` columns\n",
    "- To facilitate data visualization, let's assign first bidding to 1st and second bidding to 15th of the month\n",
    "- Let's add a new `date` column, and drop the original `month` and `bidding_no` columns"
   ]
  },
  {
   "cell_type": "code",
   "execution_count": 3,
   "id": "2fb7174b-4b4d-42f1-9572-79e06bd0006b",
   "metadata": {},
   "outputs": [
    {
     "name": "stdout",
     "output_type": "stream",
     "text": [
      "<class 'pandas.core.frame.DataFrame'>\n",
      "RangeIndex: 1740 entries, 0 to 1739\n",
      "Data columns (total 6 columns):\n",
      " #   Column         Non-Null Count  Dtype         \n",
      "---  ------         --------------  -----         \n",
      " 0   date           1740 non-null   datetime64[ns]\n",
      " 1   vehicle_class  1740 non-null   object        \n",
      " 2   quota          1740 non-null   int64         \n",
      " 3   bids_success   1740 non-null   object        \n",
      " 4   bids_received  1740 non-null   object        \n",
      " 5   premium        1740 non-null   int64         \n",
      "dtypes: datetime64[ns](1), int64(2), object(3)\n",
      "memory usage: 81.7+ KB\n"
     ]
    }
   ],
   "source": [
    "df['date'] = df.apply(lambda row: f\"{row['month']}-{('01' if row['bidding_no'] == 1 else '15')}\", axis=1)\n",
    "df['date'] = pd.to_datetime(df['date'])\n",
    "df = df.drop(columns=['month', 'bidding_no'])\n",
    "df = df[['date'] + [col for col in df.columns if col != 'date']]\n",
    "df.info()"
   ]
  },
  {
   "cell_type": "markdown",
   "id": "965c6d22-bcf8-48c5-910c-87adca111c5b",
   "metadata": {},
   "source": [
    "# Trying to plot `quota` and `bids_received`"
   ]
  },
  {
   "cell_type": "markdown",
   "id": "eb6096d0-3d2c-486d-ab75-6a55a8062268",
   "metadata": {},
   "source": [
    "Let's limit the `vehicle_class` to `Category B` and range in 2023 for simple visualization"
   ]
  },
  {
   "cell_type": "code",
   "execution_count": 4,
   "id": "de14e690-9f28-48e0-b9e5-3843045eda26",
   "metadata": {},
   "outputs": [],
   "source": [
    "df_b = df[df['vehicle_class'] == 'Category B']\n",
    "df_b = df_b[(df_b['date'] >= '2023-01-01') & (df_b['date'] <= '2023-12-31')]"
   ]
  },
  {
   "cell_type": "markdown",
   "id": "cc060b52-c076-4b72-b93c-782c69770ccd",
   "metadata": {},
   "source": [
    "Plotting the chart give unexpected results"
   ]
  },
  {
   "cell_type": "code",
   "execution_count": 5,
   "id": "a42b5abc-5b5f-483a-a0bb-7c7ec4d52f4e",
   "metadata": {},
   "outputs": [
    {
     "data": {
      "image/png": "[encoded data removed]",
      "text/plain": [
       "<Figure size 1600x900 with 1 Axes>"
      ]
     },
     "metadata": {},
     "output_type": "display_data"
    }
   ],
   "source": [
    "plt.figure(figsize=(16, 9))\n",
    "plt.bar(df_b['date'], df_b['quota'], label='Quota', color='b')\n",
    "plt.bar(df_b['date'], df_b['bids_received'], bottom=df_b['quota'], label='Bids Received', color='r')\n",
    "plt.show()"
   ]
  },
  {
   "cell_type": "markdown",
   "id": "9245d2f1-8149-4f05-a5f6-68d64e375bee",
   "metadata": {},
   "source": [
    "Looking at the datatypes, turns out that `bids_received` and `bids_success` are `object` instead of `int64`"
   ]
  },
  {
   "cell_type": "code",
   "execution_count": 6,
   "id": "c63e617c-a5f7-41db-a0dc-2167555fe3d8",
   "metadata": {},
   "outputs": [
    {
     "data": {
      "text/plain": [
       "date             datetime64[ns]\n",
       "vehicle_class            object\n",
       "quota                     int64\n",
       "bids_success             object\n",
       "bids_received            object\n",
       "premium                   int64\n",
       "dtype: object"
      ]
     },
     "execution_count": 6,
     "metadata": {},
     "output_type": "execute_result"
    }
   ],
   "source": [
    "df.dtypes"
   ]
  },
  {
   "cell_type": "markdown",
   "id": "4cb518ca-fef2-4479-adc4-222b4e7cd815",
   "metadata": {},
   "source": [
    "Attempting to use `to_numeric` throws errors, turns out that the column values contains commas `,`"
   ]
  },
  {
   "cell_type": "code",
   "execution_count": 7,
   "id": "602ffbe9-f57d-4fa3-9432-6da078d46424",
   "metadata": {},
   "outputs": [
    {
     "ename": "ValueError",
     "evalue": "Unable to parse string \"1,438\" at position 1578",
     "output_type": "error",
     "traceback": [
      "\u001b[0;31m---------------------------------------------------------------------------\u001b[0m",
      "\u001b[0;31mValueError\u001b[0m                                Traceback (most recent call last)",
      "File \u001b[0;32mlib.pyx:2391\u001b[0m, in \u001b[0;36mpandas._libs.lib.maybe_convert_numeric\u001b[0;34m()\u001b[0m\n",
      "\u001b[0;31mValueError\u001b[0m: Unable to parse string \"1,438\"",
      "\nDuring handling of the above exception, another exception occurred:\n",
      "\u001b[0;31mValueError\u001b[0m                                Traceback (most recent call last)",
      "Cell \u001b[0;32mIn[7], line 1\u001b[0m\n\u001b[0;32m----> 1\u001b[0m df[\u001b[38;5;124m'\u001b[39m\u001b[38;5;124mbids_received\u001b[39m\u001b[38;5;124m'\u001b[39m] \u001b[38;5;241m=\u001b[39m pd\u001b[38;5;241m.\u001b[39mto_numeric(df[\u001b[38;5;124m'\u001b[39m\u001b[38;5;124mbids_received\u001b[39m\u001b[38;5;124m'\u001b[39m])\n",
      "File \u001b[0;32m/opt/conda/lib/python3.12/site-packages/pandas/core/tools/numeric.py:232\u001b[0m, in \u001b[0;36mto_numeric\u001b[0;34m(arg, errors, downcast, dtype_backend)\u001b[0m\n\u001b[1;32m    230\u001b[0m coerce_numeric \u001b[38;5;241m=\u001b[39m errors \u001b[38;5;129;01mnot\u001b[39;00m \u001b[38;5;129;01min\u001b[39;00m (\u001b[38;5;124m\"\u001b[39m\u001b[38;5;124mignore\u001b[39m\u001b[38;5;124m\"\u001b[39m, \u001b[38;5;124m\"\u001b[39m\u001b[38;5;124mraise\u001b[39m\u001b[38;5;124m\"\u001b[39m)\n\u001b[1;32m    231\u001b[0m \u001b[38;5;28;01mtry\u001b[39;00m:\n\u001b[0;32m--> 232\u001b[0m     values, new_mask \u001b[38;5;241m=\u001b[39m lib\u001b[38;5;241m.\u001b[39mmaybe_convert_numeric(  \u001b[38;5;66;03m# type: ignore[call-overload]\u001b[39;00m\n\u001b[1;32m    233\u001b[0m         values,\n\u001b[1;32m    234\u001b[0m         \u001b[38;5;28mset\u001b[39m(),\n\u001b[1;32m    235\u001b[0m         coerce_numeric\u001b[38;5;241m=\u001b[39mcoerce_numeric,\n\u001b[1;32m    236\u001b[0m         convert_to_masked_nullable\u001b[38;5;241m=\u001b[39mdtype_backend \u001b[38;5;129;01mis\u001b[39;00m \u001b[38;5;129;01mnot\u001b[39;00m lib\u001b[38;5;241m.\u001b[39mno_default\n\u001b[1;32m    237\u001b[0m         \u001b[38;5;129;01mor\u001b[39;00m \u001b[38;5;28misinstance\u001b[39m(values_dtype, StringDtype)\n\u001b[1;32m    238\u001b[0m         \u001b[38;5;129;01mand\u001b[39;00m \u001b[38;5;129;01mnot\u001b[39;00m values_dtype\u001b[38;5;241m.\u001b[39mstorage \u001b[38;5;241m==\u001b[39m \u001b[38;5;124m\"\u001b[39m\u001b[38;5;124mpyarrow_numpy\u001b[39m\u001b[38;5;124m\"\u001b[39m,\n\u001b[1;32m    239\u001b[0m     )\n\u001b[1;32m    240\u001b[0m \u001b[38;5;28;01mexcept\u001b[39;00m (\u001b[38;5;167;01mValueError\u001b[39;00m, \u001b[38;5;167;01mTypeError\u001b[39;00m):\n\u001b[1;32m    241\u001b[0m     \u001b[38;5;28;01mif\u001b[39;00m errors \u001b[38;5;241m==\u001b[39m \u001b[38;5;124m\"\u001b[39m\u001b[38;5;124mraise\u001b[39m\u001b[38;5;124m\"\u001b[39m:\n",
      "File \u001b[0;32mlib.pyx:2433\u001b[0m, in \u001b[0;36mpandas._libs.lib.maybe_convert_numeric\u001b[0;34m()\u001b[0m\n",
      "\u001b[0;31mValueError\u001b[0m: Unable to parse string \"1,438\" at position 1578"
     ]
    }
   ],
   "source": [
    "df['bids_received'] = pd.to_numeric(df['bids_received'])"
   ]
  },
  {
   "cell_type": "code",
   "execution_count": 8,
   "id": "56a39fca-661d-4859-bee5-ff50c0c77fd1",
   "metadata": {},
   "outputs": [
    {
     "ename": "ValueError",
     "evalue": "Unable to parse string \"1,007\" at position 1720",
     "output_type": "error",
     "traceback": [
      "\u001b[0;31m---------------------------------------------------------------------------\u001b[0m",
      "\u001b[0;31mValueError\u001b[0m                                Traceback (most recent call last)",
      "File \u001b[0;32mlib.pyx:2391\u001b[0m, in \u001b[0;36mpandas._libs.lib.maybe_convert_numeric\u001b[0;34m()\u001b[0m\n",
      "\u001b[0;31mValueError\u001b[0m: Unable to parse string \"1,007\"",
      "\nDuring handling of the above exception, another exception occurred:\n",
      "\u001b[0;31mValueError\u001b[0m                                Traceback (most recent call last)",
      "Cell \u001b[0;32mIn[8], line 1\u001b[0m\n\u001b[0;32m----> 1\u001b[0m df[\u001b[38;5;124m'\u001b[39m\u001b[38;5;124mbids_success\u001b[39m\u001b[38;5;124m'\u001b[39m] \u001b[38;5;241m=\u001b[39m pd\u001b[38;5;241m.\u001b[39mto_numeric(df[\u001b[38;5;124m'\u001b[39m\u001b[38;5;124mbids_success\u001b[39m\u001b[38;5;124m'\u001b[39m])\n",
      "File \u001b[0;32m/opt/conda/lib/python3.12/site-packages/pandas/core/tools/numeric.py:232\u001b[0m, in \u001b[0;36mto_numeric\u001b[0;34m(arg, errors, downcast, dtype_backend)\u001b[0m\n\u001b[1;32m    230\u001b[0m coerce_numeric \u001b[38;5;241m=\u001b[39m errors \u001b[38;5;129;01mnot\u001b[39;00m \u001b[38;5;129;01min\u001b[39;00m (\u001b[38;5;124m\"\u001b[39m\u001b[38;5;124mignore\u001b[39m\u001b[38;5;124m\"\u001b[39m, \u001b[38;5;124m\"\u001b[39m\u001b[38;5;124mraise\u001b[39m\u001b[38;5;124m\"\u001b[39m)\n\u001b[1;32m    231\u001b[0m \u001b[38;5;28;01mtry\u001b[39;00m:\n\u001b[0;32m--> 232\u001b[0m     values, new_mask \u001b[38;5;241m=\u001b[39m lib\u001b[38;5;241m.\u001b[39mmaybe_convert_numeric(  \u001b[38;5;66;03m# type: ignore[call-overload]\u001b[39;00m\n\u001b[1;32m    233\u001b[0m         values,\n\u001b[1;32m    234\u001b[0m         \u001b[38;5;28mset\u001b[39m(),\n\u001b[1;32m    235\u001b[0m         coerce_numeric\u001b[38;5;241m=\u001b[39mcoerce_numeric,\n\u001b[1;32m    236\u001b[0m         convert_to_masked_nullable\u001b[38;5;241m=\u001b[39mdtype_backend \u001b[38;5;129;01mis\u001b[39;00m \u001b[38;5;129;01mnot\u001b[39;00m lib\u001b[38;5;241m.\u001b[39mno_default\n\u001b[1;32m    237\u001b[0m         \u001b[38;5;129;01mor\u001b[39;00m \u001b[38;5;28misinstance\u001b[39m(values_dtype, StringDtype)\n\u001b[1;32m    238\u001b[0m         \u001b[38;5;129;01mand\u001b[39;00m \u001b[38;5;129;01mnot\u001b[39;00m values_dtype\u001b[38;5;241m.\u001b[39mstorage \u001b[38;5;241m==\u001b[39m \u001b[38;5;124m\"\u001b[39m\u001b[38;5;124mpyarrow_numpy\u001b[39m\u001b[38;5;124m\"\u001b[39m,\n\u001b[1;32m    239\u001b[0m     )\n\u001b[1;32m    240\u001b[0m \u001b[38;5;28;01mexcept\u001b[39;00m (\u001b[38;5;167;01mValueError\u001b[39;00m, \u001b[38;5;167;01mTypeError\u001b[39;00m):\n\u001b[1;32m    241\u001b[0m     \u001b[38;5;28;01mif\u001b[39;00m errors \u001b[38;5;241m==\u001b[39m \u001b[38;5;124m\"\u001b[39m\u001b[38;5;124mraise\u001b[39m\u001b[38;5;124m\"\u001b[39m:\n",
      "File \u001b[0;32mlib.pyx:2433\u001b[0m, in \u001b[0;36mpandas._libs.lib.maybe_convert_numeric\u001b[0;34m()\u001b[0m\n",
      "\u001b[0;31mValueError\u001b[0m: Unable to parse string \"1,007\" at position 1720"
     ]
    }
   ],
   "source": [
    "df['bids_success'] = pd.to_numeric(df['bids_success'])"
   ]
  },
  {
   "cell_type": "markdown",
   "id": "5fcee815-8720-4cf9-9402-124c762966a0",
   "metadata": {},
   "source": [
    "Scrub the commas away and the type conversion is successful"
   ]
  },
  {
   "cell_type": "code",
   "execution_count": 9,
   "id": "a0277d29-317f-4bc8-9b59-68c4b40ac42a",
   "metadata": {},
   "outputs": [
    {
     "data": {
      "text/plain": [
       "date             datetime64[ns]\n",
       "vehicle_class            object\n",
       "quota                     int64\n",
       "bids_success              int64\n",
       "bids_received             int64\n",
       "premium                   int64\n",
       "dtype: object"
      ]
     },
     "execution_count": 9,
     "metadata": {},
     "output_type": "execute_result"
    }
   ],
   "source": [
    "df['bids_received'] = df['bids_received'].str.replace(',', '', regex=False)\n",
    "df['bids_received'] = pd.to_numeric(df['bids_received'])\n",
    "df['bids_success'] = df['bids_success'].str.replace(',', '', regex=False)\n",
    "df['bids_success'] = pd.to_numeric(df['bids_success'])\n",
    "df.dtypes"
   ]
  },
  {
   "cell_type": "markdown",
   "id": "591c2587-ca3b-477e-a613-36e3513c0aa9",
   "metadata": {},
   "source": [
    "# Let's plot `quota` and `bids_received` again"
   ]
  },
  {
   "cell_type": "code",
   "execution_count": 10,
   "id": "3ca231c7-b7dc-4bf8-88fd-f8e8503a4213",
   "metadata": {},
   "outputs": [
    {
     "data": {
      "image/png": "[encoded data removed]",
      "text/plain": [
       "<Figure size 1600x900 with 1 Axes>"
      ]
     },
     "metadata": {},
     "output_type": "display_data"
    }
   ],
   "source": [
    "df_b = df[df['vehicle_class'] == 'Category B']\n",
    "df_b = df_b[(df_b['date'] >= '2023-01-01') & (df_b['date'] <= '2023-12-31')]\n",
    "plt.figure(figsize=(16, 9))\n",
    "plt.bar(df_b['date'], df_b['quota'], label='Quota', color='b')\n",
    "plt.bar(df_b['date'], df_b['bids_received'], bottom=df_b['quota'], label='Bids Received', color='r')\n",
    "plt.show()"
   ]
  }
 ],
 "metadata": {
  "kernelspec": {
   "display_name": "Python 3 (ipykernel)",
   "language": "python",
   "name": "python3"
  },
  "language_info": {
   "codemirror_mode": {
    "name": "ipython",
    "version": 3
   },
   "file_extension": ".py",
   "mimetype": "text/x-python",
   "name": "python",
   "nbconvert_exporter": "python",
   "pygments_lexer": "ipython3",
   "version": "3.12.2"
  }
 },
 "nbformat": 4,
 "nbformat_minor": 5
}
